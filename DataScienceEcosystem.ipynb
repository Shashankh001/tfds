{
 "cells": [
  {
   "cell_type": "markdown",
   "id": "b2cd23b0-1339-47f9-85a0-88a184b64a49",
   "metadata": {},
   "source": [
    "# Data Science Tools and Ecosystems"
   ]
  },
  {
   "cell_type": "markdown",
   "id": "8f4288b9-2ac7-4f76-b079-c926c25935e0",
   "metadata": {},
   "source": [
    "### In this notebook, Data Science Tools and Ecosystem are summarized."
   ]
  },
  {
   "cell_type": "markdown",
   "id": "2a500ac8-c11d-436a-a7ce-2f696ecf8255",
   "metadata": {},
   "source": [
    "##### Some of the popular languages that Data Scientists use are:\n",
    "1. Python\n",
    "2. R\n",
    "3. Juli\n",
    "4. JavaScript"
   ]
  },
  {
   "cell_type": "markdown",
   "id": "c6da815c-ed2b-4554-a74b-2ed20fecdd54",
   "metadata": {},
   "source": [
    "##### Some of the commonly used libraries used by Data Scienctists include:\n",
    "1. Pandas\n",
    "2. NumPY\n",
    "3. Keras\n",
    "4. TensorFlow"
   ]
  },
  {
   "cell_type": "markdown",
   "id": "fff2622f-5d58-4ed7-9a56-312b76abb106",
   "metadata": {},
   "source": [
    "| Data Science Tools |\n",
    "|---|\n",
    "| TensorFlow |\n",
    "| Scikit-learn |\n",
    "| Matplotlib |"
   ]
  },
  {
   "cell_type": "markdown",
   "id": "3ec24f1b-ae69-4780-82bc-e10d6d664a85",
   "metadata": {},
   "source": [
    "### Below are a few examples of evaluatiing arithemetic expressions in Python\n"
   ]
  },
  {
   "cell_type": "code",
   "execution_count": 8,
   "id": "14d51994-9879-474b-99bf-7573fa01088e",
   "metadata": {},
   "outputs": [
    {
     "data": {
      "text/plain": [
       "17"
      ]
     },
     "execution_count": 8,
     "metadata": {},
     "output_type": "execute_result"
    }
   ],
   "source": [
    "#This is a simple arithmetic expression to multiply then add integers\n",
    "(3*4)+5"
   ]
  },
  {
   "cell_type": "code",
   "execution_count": 9,
   "id": "e7efc5bc-a46d-46d8-8af9-542c67245208",
   "metadata": {},
   "outputs": [
    {
     "data": {
      "text/plain": [
       "3.3333333333333335"
      ]
     },
     "execution_count": 9,
     "metadata": {},
     "output_type": "execute_result"
    }
   ],
   "source": [
    "#This will convert  200 minutes to hours by dividing by 60\n",
    "timeInMinutes = 200\n",
    "timeInHours = timeInMinutes/60\n",
    "timeInHours"
   ]
  },
  {
   "cell_type": "markdown",
   "id": "a9fa2a68-4f37-40cf-b3e1-9ef1bb6b593f",
   "metadata": {},
   "source": [
    "**Objectives:**\n",
    "+ List popular languages for Data Science\n",
    "+ List popular tools used by Data Scientist\n",
    "+ What are some important characteristics of a Data Scientist\n",
    "+ Differentiate between Python and R Language"
   ]
  },
  {
   "cell_type": "markdown",
   "id": "e157a59d-6815-4882-b725-74aa77e92c7b",
   "metadata": {},
   "source": [
    "## Author\n",
    "Shashankh Indrasena Gedda"
   ]
  },
  {
   "cell_type": "code",
   "execution_count": null,
   "id": "c9d2be68-c923-4db9-bdf3-cf8167298c8c",
   "metadata": {},
   "outputs": [],
   "source": []
  }
 ],
 "metadata": {
  "kernelspec": {
   "display_name": "Python 3 (ipykernel)",
   "language": "python",
   "name": "python3"
  },
  "language_info": {
   "codemirror_mode": {
    "name": "ipython",
    "version": 3
   },
   "file_extension": ".py",
   "mimetype": "text/x-python",
   "name": "python",
   "nbconvert_exporter": "python",
   "pygments_lexer": "ipython3",
   "version": "3.9.6"
  }
 },
 "nbformat": 4,
 "nbformat_minor": 5
}
